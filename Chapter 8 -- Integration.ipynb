{
 "cells": [
  {
   "cell_type": "code",
   "execution_count": 1,
   "id": "e4e8e207",
   "metadata": {},
   "outputs": [],
   "source": [
    "import numpy as np \n",
    "import matplotlib.pyplot as plt\n",
    "from scipy import integrate \n",
    "import sympy "
   ]
  },
  {
   "cell_type": "code",
   "execution_count": 2,
   "id": "f69cd82c",
   "metadata": {},
   "outputs": [],
   "source": [
    "sympy.init_printing()"
   ]
  },
  {
   "cell_type": "markdown",
   "id": "3c2d33ba",
   "metadata": {},
   "source": [
    "\\begin{align}\n",
    "\\int_a^b f(x)dx \\approx \\frac{b-a}{6} \\biggl( f(a) + 4f \\Big( \\frac{a+b}{2} \\Big) + f(b) \\biggr)\n",
    "\\end{align}"
   ]
  },
  {
   "cell_type": "code",
   "execution_count": 3,
   "id": "2ffef503",
   "metadata": {},
   "outputs": [],
   "source": [
    "a, b, x = sympy.symbols(\"a, b, x\")\n",
    "f = sympy.Function(\"f\")"
   ]
  },
  {
   "cell_type": "code",
   "execution_count": 4,
   "id": "72bb2466",
   "metadata": {},
   "outputs": [],
   "source": [
    "x = a, (a+b)/2, b\n",
    "w = [sympy.symbols(\"w_%d\" %i) for i in range(len(x))]"
   ]
  },
  {
   "cell_type": "code",
   "execution_count": 5,
   "id": "e8153d37",
   "metadata": {},
   "outputs": [
    {
     "data": {
      "image/png": "[encoded data removed]",
      "text/latex": [
       "$\\displaystyle w_{0} f{\\left(a \\right)} + w_{1} f{\\left(\\frac{a}{2} + \\frac{b}{2} \\right)} + w_{2} f{\\left(b \\right)}$"
      ],
      "text/plain": [
       "              ⎛a   b⎞          \n",
       "w₀⋅f(a) + w₁⋅f⎜─ + ─⎟ + w₂⋅f(b)\n",
       "              ⎝2   2⎠          "
      ]
     },
     "execution_count": 5,
     "metadata": {},
     "output_type": "execute_result"
    }
   ],
   "source": [
    "q_rule = sum([w[i] * f(x[i]) for i in range(len(x))])\n",
    "q_rule "
   ]
  },
  {
   "cell_type": "code",
   "execution_count": 6,
   "id": "01a123c4",
   "metadata": {},
   "outputs": [
    {
     "data": {
      "image/png": "[encoded data removed]",
      "text/latex": [
       "$\\displaystyle \\left( a, \\  \\frac{a}{2} + \\frac{b}{2}, \\  b\\right)$"
      ],
      "text/plain": [
       "⎛   a   b   ⎞\n",
       "⎜a, ─ + ─, b⎟\n",
       "⎝   2   2   ⎠"
      ]
     },
     "execution_count": 6,
     "metadata": {},
     "output_type": "execute_result"
    }
   ],
   "source": [
    "x"
   ]
  },
  {
   "cell_type": "code",
   "execution_count": 7,
   "id": "5d3239e2",
   "metadata": {},
   "outputs": [
    {
     "data": {
      "image/png": "[encoded data removed]",
      "text/latex": [
       "$\\displaystyle \\left[ w_{0}, \\  w_{1}, \\  w_{2}\\right]$"
      ],
      "text/plain": [
       "[w₀, w₁, w₂]"
      ]
     },
     "execution_count": 7,
     "metadata": {},
     "output_type": "execute_result"
    }
   ],
   "source": [
    "w"
   ]
  },
  {
   "cell_type": "code",
   "execution_count": 14,
   "id": "f0a6ca73",
   "metadata": {},
   "outputs": [
    {
     "data": {
      "text/plain": [
       "f"
      ]
     },
     "execution_count": 14,
     "metadata": {},
     "output_type": "execute_result"
    }
   ],
   "source": [
    "f"
   ]
  },
  {
   "cell_type": "code",
   "execution_count": null,
   "id": "93cc72dd",
   "metadata": {},
   "outputs": [],
   "source": []
  }
 ],
 "metadata": {
  "kernelspec": {
   "display_name": "Python 3 (ipykernel)",
   "language": "python",
   "name": "python3"
  },
  "language_info": {
   "codemirror_mode": {
    "name": "ipython",
    "version": 3
   },
   "file_extension": ".py",
   "mimetype": "text/x-python",
   "name": "python",
   "nbconvert_exporter": "python",
   "pygments_lexer": "ipython3",
   "version": "3.7.13"
  }
 },
 "nbformat": 4,
 "nbformat_minor": 5
}
